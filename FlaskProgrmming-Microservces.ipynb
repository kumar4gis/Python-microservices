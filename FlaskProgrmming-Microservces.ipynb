{
 "cells": [
  {
   "cell_type": "code",
   "execution_count": null,
   "metadata": {},
   "outputs": [],
   "source": [
    "pip install MicroServicesApp"
   ]
  },
  {
   "cell_type": "code",
   "execution_count": null,
   "metadata": {},
   "outputs": [],
   "source": [
    "pip install flask"
   ]
  },
  {
   "cell_type": "code",
   "execution_count": null,
   "metadata": {},
   "outputs": [],
   "source": [
    "from flask_microservices import MicroServicesApp\n",
    "\n",
    "app = MicroServicesApp(__name__)\n",
    "\n",
    "enabled_modules = [\n",
    "    # Normally, we'd define more modules to enable:\n",
    "\n",
    "    # 'home',\n",
    "    # 'forum',\n",
    "    # 'settings',\n",
    "\n",
    "    # We will enable just one, for now:\n",
    "\n",
    "    'admin'\n",
    "]\n",
    "\n",
    "# By default, this will assume your modules directory is \"./modules\" if a second argument is not provided.\n",
    "app.register_urls(enabled_modules)\n",
    "app.run()"
   ]
  },
  {
   "cell_type": "code",
   "execution_count": null,
   "metadata": {},
   "outputs": [],
   "source": [
    "pip install flask_microservices"
   ]
  },
  {
   "cell_type": "code",
   "execution_count": null,
   "metadata": {},
   "outputs": [],
   "source": [
    "from flask_microservices import MicroServicesApp\n",
    "\n",
    "app = MicroServicesApp(__name__)\n",
    "\n",
    "enabled_modules = [\n",
    "    # Normally, we'd define more modules to enable:\n",
    "\n",
    "    # 'home',\n",
    "    # 'forum',\n",
    "    # 'settings',\n",
    "\n",
    "    # We will enable just one, for now:\n",
    "\n",
    "    'admin'\n",
    "]\n",
    "\n",
    "# By default, this will assume your modules directory is \"./modules\" if a second argument is not provided.\n",
    "app.register_urls(enabled_modules)\n",
    "app.run()"
   ]
  },
  {
   "cell_type": "code",
   "execution_count": null,
   "metadata": {},
   "outputs": [],
   "source": [
    "import json\n",
    "\n",
    "\n",
    "class Book:\n",
    "\n",
    "    def __init__(self):\n",
    "        self.books = []\n",
    "\n",
    "    def add_book(self, title, author):\n",
    "        new_book = {}\n",
    "        new_book[\"Title\"] = title\n",
    "        new_book[\"Author\"] = author\n",
    "        self.books.append(new_book)\n",
    "        print(\"Book: {0}\".format(new_book))\n",
    "        return json.dumps(new_book)\n",
    "\n",
    "    def del_book(self, title):\n",
    "        found = False\n",
    "        for idx, book in enumerate(self.books):\n",
    "            if book[\"Title\"] == title:\n",
    "                index = idx\n",
    "                found = True\n",
    "                del self.books[idx]\n",
    "        print(\"books: {0}\".format(json.dumps(self.books)))\n",
    "        return found\n",
    "\n",
    "    def get_all_books(self):\n",
    "        return self.books\n",
    "\n",
    "    def json_list(self):\n",
    "        return json.dumps(self.books)"
   ]
  },
  {
   "cell_type": "code",
   "execution_count": null,
   "metadata": {},
   "outputs": [],
   "source": [
    "from nameko.rpc import rpc\n",
    "\n",
    "\n",
    "class GreetingService:\n",
    "    name = \"greeting_service\"\n",
    "\n",
    "    @rpc\n",
    "    def hello(self, name):\n",
    "        return \"Hello, {}!\".format(name)"
   ]
  },
  {
   "cell_type": "code",
   "execution_count": null,
   "metadata": {},
   "outputs": [],
   "source": [
    "from time import sleep\n",
    "\n",
    "from nameko.rpc import rpc\n",
    "\n",
    "\n",
    "class GreetingService:\n",
    "    name = \"greeting_service\"\n",
    "\n",
    "    @rpc\n",
    "    def hello(self, name):\n",
    "        sleep(5)\n",
    "        return \"Hello, {}! (version 2)\".format(name)"
   ]
  },
  {
   "cell_type": "code",
   "execution_count": null,
   "metadata": {},
   "outputs": [],
   "source": [
    "#~/movie_service/app/main.py\n",
    "\n",
    "from fastapi import FastAPI\n",
    "\n",
    "app = FastAPI()\n",
    "\n",
    "\n",
    "@app.get('/')\n",
    "async def index():\n",
    "    return {\"Real\": \"Python\"}"
   ]
  },
  {
   "cell_type": "code",
   "execution_count": null,
   "metadata": {},
   "outputs": [],
   "source": [
    "#!flask/bin/python\n",
    "from flask import Flask\n",
    "\n",
    "app = Flask(__name__)\n",
    "\n",
    "@app.route('/')\n",
    "def index():\n",
    "    return \"Hello, World!\"\n",
    "\n",
    "if __name__ == '__main__':\n",
    "    app.run()"
   ]
  },
  {
   "cell_type": "code",
   "execution_count": null,
   "metadata": {},
   "outputs": [],
   "source": [
    "#!flask/bin/python\n",
    "from flask import Flask, jsonify\n",
    "\n",
    "app = Flask(__name__)\n",
    "\n",
    "tasks = [\n",
    "    {\n",
    "        'id': 1,\n",
    "        'title': u'Buy groceries',\n",
    "        'description': u'Milk, Cheese, Pizza, Fruit, Tylenol', \n",
    "        'done': False\n",
    "    },\n",
    "    {\n",
    "        'id': 2,\n",
    "        'title': u'Learn Python',\n",
    "        'description': u'Need to find a good Python tutorial on the web', \n",
    "        'done': False\n",
    "    }\n",
    "]\n",
    "\n",
    "@app.route('/todo/api/v1.0/tasks', methods=['GET'])\n",
    "def get_tasks():\n",
    "    return jsonify({'tasks': tasks})\n",
    "\n",
    "if __name__ == '__main__':\n",
    "    app.run(debug=True)"
   ]
  },
  {
   "cell_type": "code",
   "execution_count": 1,
   "metadata": {},
   "outputs": [],
   "source": [
    "from nameko.rpc import rpc\n",
    "\n",
    "\n",
    "class GreetingService:\n",
    "    name = \"greeting_service\"\n",
    "\n",
    "    @rpc\n",
    "    def hello(self, name):\n",
    "        return \"Hello, {}!\".format(name)"
   ]
  },
  {
   "cell_type": "code",
   "execution_count": 4,
   "metadata": {},
   "outputs": [
    {
     "name": "stdout",
     "output_type": "stream",
     "text": [
      "Requirement already satisfied: nameko in c:\\users\\kiran.v\\anaconda3\\lib\\site-packages (2.13.0)\n",
      "Requirement already satisfied: pyyaml>=5.1 in c:\\users\\kiran.v\\anaconda3\\lib\\site-packages (from nameko) (5.3.1)\n",
      "Requirement already satisfied: requests>=1.2.0 in c:\\users\\kiran.v\\anaconda3\\lib\\site-packages (from nameko) (2.24.0)\n",
      "Requirement already satisfied: path.py>=6.2 in c:\\users\\kiran.v\\anaconda3\\lib\\site-packages (from nameko) (12.5.0)\n",
      "Requirement already satisfied: mock>=1.2 in c:\\users\\kiran.v\\anaconda3\\lib\\site-packages (from nameko) (4.0.2)\n",
      "Requirement already satisfied: wrapt>=1.0.0 in c:\\users\\kiran.v\\anaconda3\\lib\\site-packages (from nameko) (1.11.2)\n",
      "Requirement already satisfied: kombu<5,>=4.2.0 in c:\\users\\kiran.v\\anaconda3\\lib\\site-packages (from nameko) (4.6.11)\n",
      "Requirement already satisfied: werkzeug>=0.9 in c:\\users\\kiran.v\\anaconda3\\lib\\site-packages (from nameko) (1.0.1)\n",
      "Requirement already satisfied: six>=1.9.0 in c:\\users\\kiran.v\\anaconda3\\lib\\site-packages (from nameko) (1.15.0)\n",
      "Requirement already satisfied: eventlet>=0.20.1 in c:\\users\\kiran.v\\anaconda3\\lib\\site-packages (from nameko) (0.30.1)\n",
      "Requirement already satisfied: dnspython<2 in c:\\users\\kiran.v\\anaconda3\\lib\\site-packages (from nameko) (1.16.0)\n",
      "Requirement already satisfied: certifi>=2017.4.17 in c:\\users\\kiran.v\\anaconda3\\lib\\site-packages (from requests>=1.2.0->nameko) (2020.6.20)\n",
      "Requirement already satisfied: chardet<4,>=3.0.2 in c:\\users\\kiran.v\\anaconda3\\lib\\site-packages (from requests>=1.2.0->nameko) (3.0.4)\n",
      "Requirement already satisfied: idna<3,>=2.5 in c:\\users\\kiran.v\\anaconda3\\lib\\site-packages (from requests>=1.2.0->nameko) (2.10)\n",
      "Requirement already satisfied: urllib3!=1.25.0,!=1.25.1,<1.26,>=1.21.1 in c:\\users\\kiran.v\\anaconda3\\lib\\site-packages (from requests>=1.2.0->nameko) (1.25.11)\n",
      "Requirement already satisfied: path in c:\\users\\kiran.v\\anaconda3\\lib\\site-packages (from path.py>=6.2->nameko) (15.0.0)\n",
      "Requirement already satisfied: amqp<2.7,>=2.6.0 in c:\\users\\kiran.v\\anaconda3\\lib\\site-packages (from kombu<5,>=4.2.0->nameko) (2.6.1)\n",
      "Requirement already satisfied: greenlet>=0.3 in c:\\users\\kiran.v\\anaconda3\\lib\\site-packages (from eventlet>=0.20.1->nameko) (0.4.17)\n",
      "Requirement already satisfied: vine<5.0.0a1,>=1.1.3 in c:\\users\\kiran.v\\anaconda3\\lib\\site-packages (from amqp<2.7,>=2.6.0->kombu<5,>=4.2.0->nameko) (1.3.0)\n",
      "Note: you may need to restart the kernel to use updated packages.\n"
     ]
    }
   ],
   "source": [
    " pip install nameko"
   ]
  },
  {
   "cell_type": "code",
   "execution_count": 5,
   "metadata": {},
   "outputs": [
    {
     "name": "stdout",
     "output_type": "stream",
     "text": [
      "Requirement already satisfied: nameko in c:\\users\\kiran.v\\anaconda3\\lib\\site-packages (2.13.0)\n",
      "Requirement already satisfied: path.py>=6.2 in c:\\users\\kiran.v\\anaconda3\\lib\\site-packages (from nameko) (12.5.0)\n",
      "Requirement already satisfied: eventlet>=0.20.1 in c:\\users\\kiran.v\\anaconda3\\lib\\site-packages (from nameko) (0.30.1)\n",
      "Requirement already satisfied: mock>=1.2 in c:\\users\\kiran.v\\anaconda3\\lib\\site-packages (from nameko) (4.0.2)\n",
      "Requirement already satisfied: wrapt>=1.0.0 in c:\\users\\kiran.v\\anaconda3\\lib\\site-packages (from nameko) (1.11.2)\n",
      "Requirement already satisfied: dnspython<2 in c:\\users\\kiran.v\\anaconda3\\lib\\site-packages (from nameko) (1.16.0)\n",
      "Requirement already satisfied: kombu<5,>=4.2.0 in c:\\users\\kiran.v\\anaconda3\\lib\\site-packages (from nameko) (4.6.11)\n",
      "Requirement already satisfied: werkzeug>=0.9 in c:\\users\\kiran.v\\anaconda3\\lib\\site-packages (from nameko) (1.0.1)\n",
      "Requirement already satisfied: pyyaml>=5.1 in c:\\users\\kiran.v\\anaconda3\\lib\\site-packages (from nameko) (5.3.1)\n",
      "Requirement already satisfied: six>=1.9.0 in c:\\users\\kiran.v\\anaconda3\\lib\\site-packages (from nameko) (1.15.0)\n",
      "Requirement already satisfied: requests>=1.2.0 in c:\\users\\kiran.v\\anaconda3\\lib\\site-packages (from nameko) (2.24.0)\n",
      "Requirement already satisfied: path in c:\\users\\kiran.v\\anaconda3\\lib\\site-packages (from path.py>=6.2->nameko) (15.0.0)\n",
      "Requirement already satisfied: greenlet>=0.3 in c:\\users\\kiran.v\\anaconda3\\lib\\site-packages (from eventlet>=0.20.1->nameko) (0.4.17)\n",
      "Requirement already satisfied: amqp<2.7,>=2.6.0 in c:\\users\\kiran.v\\anaconda3\\lib\\site-packages (from kombu<5,>=4.2.0->nameko) (2.6.1)\n",
      "Requirement already satisfied: idna<3,>=2.5 in c:\\users\\kiran.v\\anaconda3\\lib\\site-packages (from requests>=1.2.0->nameko) (2.10)\n",
      "Requirement already satisfied: chardet<4,>=3.0.2 in c:\\users\\kiran.v\\anaconda3\\lib\\site-packages (from requests>=1.2.0->nameko) (3.0.4)\n",
      "Requirement already satisfied: urllib3!=1.25.0,!=1.25.1,<1.26,>=1.21.1 in c:\\users\\kiran.v\\anaconda3\\lib\\site-packages (from requests>=1.2.0->nameko) (1.25.11)\n",
      "Requirement already satisfied: certifi>=2017.4.17 in c:\\users\\kiran.v\\anaconda3\\lib\\site-packages (from requests>=1.2.0->nameko) (2020.6.20)\n",
      "Requirement already satisfied: vine<5.0.0a1,>=1.1.3 in c:\\users\\kiran.v\\anaconda3\\lib\\site-packages (from amqp<2.7,>=2.6.0->kombu<5,>=4.2.0->nameko) (1.3.0)\n",
      "Note: you may need to restart the kernel to use updated packages.\n"
     ]
    }
   ],
   "source": [
    "pip install nameko"
   ]
  },
  {
   "cell_type": "code",
   "execution_count": 1,
   "metadata": {},
   "outputs": [],
   "source": [
    "from nameko.rpc import rpc\n",
    "\n",
    "\n",
    "class GreetingService:\n",
    "    name = \"greeting_service\"\n",
    "\n",
    "    @rpc\n",
    "    def hello(self, name):\n",
    "        return \"Hello, {}!\".format(name)"
   ]
  },
  {
   "cell_type": "code",
   "execution_count": 3,
   "metadata": {},
   "outputs": [],
   "source": [
    "from time import sleep\n",
    "\n",
    "from nameko.rpc import rpc\n",
    "\n",
    "\n",
    "class GreetingService:\n",
    "    name = \"greeting_service\"\n",
    "\n",
    "    @rpc\n",
    "    def hello(self, name):\n",
    "        sleep(5)\n",
    "        return \"Hello, {}!\".format(name)"
   ]
  },
  {
   "cell_type": "code",
   "execution_count": 4,
   "metadata": {},
   "outputs": [],
   "source": [
    "from time import sleep\n",
    "\n",
    "from nameko.rpc import rpc\n",
    "\n",
    "\n",
    "class GreetingService:\n",
    "    name = \"greeting_service\"\n",
    "\n",
    "    @rpc\n",
    "    def hello(self, name):\n",
    "        sleep(5)\n",
    "        return \"Hello, {}!\".format(name)"
   ]
  },
  {
   "cell_type": "code",
   "execution_count": 15,
   "metadata": {},
   "outputs": [
    {
     "data": {
      "text/plain": [
       "'Hello, world!'"
      ]
     },
     "execution_count": 15,
     "metadata": {},
     "output_type": "execute_result"
    }
   ],
   "source": [
    "GreetingService.hello(1,name='world')\n",
    "    \n",
    "\n"
   ]
  },
  {
   "cell_type": "code",
   "execution_count": null,
   "metadata": {},
   "outputs": [],
   "source": []
  }
 ],
 "metadata": {
  "kernelspec": {
   "display_name": "Python 3",
   "language": "python",
   "name": "python3"
  },
  "language_info": {
   "codemirror_mode": {
    "name": "ipython",
    "version": 3
   },
   "file_extension": ".py",
   "mimetype": "text/x-python",
   "name": "python",
   "nbconvert_exporter": "python",
   "pygments_lexer": "ipython3",
   "version": "3.8.5"
  }
 },
 "nbformat": 4,
 "nbformat_minor": 4
}
